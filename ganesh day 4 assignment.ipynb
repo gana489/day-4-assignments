{
 "cells": [
  {
   "cell_type": "code",
   "execution_count": 17,
   "metadata": {},
   "outputs": [],
   "source": [
    "def fibonacci(nterm):\n",
    "    n1 = 0\n",
    "    n2 = 1\n",
    "    count = 0\n",
    "    if nterm <= 0:\n",
    "        print('Please enter a positive integer')\n",
    "    elif nterm == 1:\n",
    "        print('fibonacci sequence upto',nterm,\":\")\n",
    "        print(n1)\n",
    "    else:\n",
    "        print('fibonacci sequence:')\n",
    "    while count < nterm:\n",
    "        print(n1)\n",
    "        nth = n1 + n2\n",
    "        n1 = n2\n",
    "        n2 = nth\n",
    "        count = count + 1"
   ]
  },
  {
   "cell_type": "code",
   "execution_count": 19,
   "metadata": {},
   "outputs": [
    {
     "name": "stdout",
     "output_type": "stream",
     "text": [
      "fibonacci sequence:\n",
      "0\n",
      "1\n",
      "1\n",
      "2\n",
      "3\n",
      "5\n",
      "8\n",
      "13\n",
      "21\n",
      "34\n"
     ]
    }
   ],
   "source": [
    "fibonacci(10)"
   ]
  },
  {
   "cell_type": "code",
   "execution_count": 13,
   "metadata": {},
   "outputs": [],
   "source": [
    "f1 = open(\"day4.bin\",'wb')\n",
    "a =bytearray(\"I Love LetsUpgrade    \".encode(\"utf8\"))\n",
    "f1.write(a)\n",
    "f1.close()"
   ]
  },
  {
   "cell_type": "code",
   "execution_count": 14,
   "metadata": {},
   "outputs": [
    {
     "name": "stdout",
     "output_type": "stream",
     "text": [
      "b'I Love LetsUpgrade    '\n"
     ]
    }
   ],
   "source": [
    "f1 = open(\"day4.bin\",\"rb\")\n",
    "print(f1.read())\n",
    "f1.close()"
   ]
  },
  {
   "cell_type": "code",
   "execution_count": 15,
   "metadata": {},
   "outputs": [],
   "source": [
    "f1 = open(\"day4.bin\",\"ab\")\n",
    "ar =bytearray(\"We all love python classes with LU\".encode(\"utf8\"))\n",
    "f1.write(ar)\n",
    "f1.close()"
   ]
  },
  {
   "cell_type": "code",
   "execution_count": 16,
   "metadata": {},
   "outputs": [
    {
     "name": "stdout",
     "output_type": "stream",
     "text": [
      "b'I Love LetsUpgrade    We all love python classes with LU'\n"
     ]
    }
   ],
   "source": [
    "with open(\"day4.bin\",\"rb\") as f1:\n",
    "    print(f1.read())"
   ]
  },
  {
   "cell_type": "code",
   "execution_count": 21,
   "metadata": {},
   "outputs": [],
   "source": [
    "def movie(name):\n",
    "    if name == \"Thriller\":\n",
    "        print(\"HIT,ashwadama\")\n",
    "    if name == \"Action\":\n",
    "        print(\"Action,Avengers,FNH,Raja The Great\")\n",
    "    if name == \"Drama\":\n",
    "        print(\"Mahanati,NTR biopic,KING\")\n",
    "    if name == \"sentimental\":\n",
    "        print(\"jersey,police\")"
   ]
  },
  {
   "cell_type": "code",
   "execution_count": 22,
   "metadata": {},
   "outputs": [
    {
     "name": "stdout",
     "output_type": "stream",
     "text": [
      "HIT,ashwadama\n"
     ]
    }
   ],
   "source": [
    "movie(\"Thriller\")"
   ]
  },
  {
   "cell_type": "code",
   "execution_count": 23,
   "metadata": {},
   "outputs": [
    {
     "name": "stdout",
     "output_type": "stream",
     "text": [
      "Action,Avengers,FNH,Raja The Great\n"
     ]
    }
   ],
   "source": [
    "movie(\"Action\")"
   ]
  },
  {
   "cell_type": "code",
   "execution_count": 24,
   "metadata": {},
   "outputs": [
    {
     "name": "stdout",
     "output_type": "stream",
     "text": [
      "jersey,police\n"
     ]
    }
   ],
   "source": [
    "movie(\"sentimental\")"
   ]
  },
  {
   "cell_type": "markdown",
   "metadata": {},
   "source": [
    "*am not able to write code for the randamize output please help me for that code "
   ]
  }
 ],
 "metadata": {
  "kernelspec": {
   "display_name": "Python 3",
   "language": "python",
   "name": "python3"
  },
  "language_info": {
   "codemirror_mode": {
    "name": "ipython",
    "version": 3
   },
   "file_extension": ".py",
   "mimetype": "text/x-python",
   "name": "python",
   "nbconvert_exporter": "python",
   "pygments_lexer": "ipython3",
   "version": "3.7.6"
  }
 },
 "nbformat": 4,
 "nbformat_minor": 4
}
